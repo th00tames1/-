{
  "nbformat": 4,
  "nbformat_minor": 0,
  "metadata": {
    "colab": {
      "name": "opencv_gpu_mount.ipynb",
      "provenance": [],
      "collapsed_sections": [],
      "authorship_tag": "ABX9TyORC24xBvACl7wKe+kcp/JR",
      "include_colab_link": true
    },
    "kernelspec": {
      "name": "python3",
      "display_name": "Python 3"
    },
    "language_info": {
      "name": "python"
    },
    "accelerator": "GPU"
  },
  "cells": [
    {
      "cell_type": "markdown",
      "metadata": {
        "id": "view-in-github",
        "colab_type": "text"
      },
      "source": [
        "<a href=\"https://colab.research.google.com/github/th00tames1/-/blob/master/opencv_gpu_mount.ipynb\" target=\"_parent\"><img src=\"https://colab.research.google.com/assets/colab-badge.svg\" alt=\"Open In Colab\"/></a>"
      ]
    },
    {
      "cell_type": "code",
      "execution_count": 1,
      "metadata": {
        "colab": {
          "base_uri": "https://localhost:8080/"
        },
        "id": "84tDf3XMsdsz",
        "outputId": "832c3fc1-a7c8-4a43-8e23-ed131d651b99"
      },
      "outputs": [
        {
          "output_type": "stream",
          "name": "stdout",
          "text": [
            "Drive already mounted at /content/gdrive; to attempt to forcibly remount, call drive.mount(\"/content/gdrive\", force_remount=True).\n"
          ]
        }
      ],
      "source": [
        "from google.colab import drive\n",
        "drive.mount('/content/gdrive')"
      ]
    },
    {
      "cell_type": "code",
      "source": [
        "import sys\n",
        "print(sys.version)"
      ],
      "metadata": {
        "colab": {
          "base_uri": "https://localhost:8080/"
        },
        "id": "t5B3pCortKdu",
        "outputId": "5e9117ef-f23c-4261-bf24-7e19f1a229fd"
      },
      "execution_count": 2,
      "outputs": [
        {
          "output_type": "stream",
          "name": "stdout",
          "text": [
            "3.7.13 (default, Apr 24 2022, 01:04:09) \n",
            "[GCC 7.5.0]\n"
          ]
        }
      ]
    },
    {
      "cell_type": "code",
      "source": [
        "#첫 세팅 시에만 주석 풀고 사용할 것\n",
        "\n",
        "'''\n",
        "%cd /content\n",
        "!git clone https://github.com/opencv/opencv\n",
        "!git clone https://github.com/opencv/opencv_contrib\n",
        "!mkdir /content/build\n",
        "%cd /content/build\n",
        "\n",
        "!cmake -DOPENCV_EXTRA_MODULES_PATH=/content/opencv_contrib/modules  -DBUILD_SHARED_LIBS=OFF  -DBUILD_TESTS=OFF  -DBUILD_PERF_TESTS=OFF  -DBUILD_EXAMPLES=OFF -DWITH_OPENEXR=OFF -DWITH_CUDA=ON -DWITH_CUBLAS=ON -DWITH_CUDNN=ON -DOPENCV_DNN_CUDA=ON /content/opencv\n",
        "\n",
        "!make -j8 install\n",
        "\n",
        "import cv2\n",
        "cv2.__version__\n",
        "'''"
      ],
      "metadata": {
        "colab": {
          "base_uri": "https://localhost:8080/",
          "height": 311
        },
        "id": "DjkXN6kF1jSg",
        "outputId": "b559b062-080c-4f10-f3b1-8dea9f9a950f"
      },
      "execution_count": 3,
      "outputs": [
        {
          "output_type": "stream",
          "name": "stdout",
          "text": [
            "/content\n",
            "Cloning into 'opencv'...\n",
            "remote: Enumerating objects: 306234, done.\u001b[K\n",
            "remote: Counting objects: 100% (236/236), done.\u001b[K\n",
            "remote: Compressing objects: 100% (165/165), done.\u001b[K\n",
            "^C\n",
            "Cloning into 'opencv_contrib'...\n",
            "remote: Enumerating objects: 37111, done.\u001b[K\n",
            "remote: Counting objects: 100% (215/215), done.\u001b[K\n",
            "remote: Compressing objects: 100% (149/149), done.\u001b[K\n",
            "^C\n",
            "/content/build\n",
            "\u001b[0mCMake Error: The source directory \"/content/opencv\" does not exist.\n",
            "Specify --help for usage, or press the help button on the CMake GUI.\u001b[0m\n",
            "make: *** No rule to make target 'install'.  Stop.\n"
          ]
        },
        {
          "output_type": "execute_result",
          "data": {
            "text/plain": [
              "'4.6.0-dev'"
            ],
            "application/vnd.google.colaboratory.intrinsic+json": {
              "type": "string"
            }
          },
          "metadata": {},
          "execution_count": 3
        }
      ]
    },
    {
      "cell_type": "markdown",
      "source": [
        "OpenCV gpu 빌드 진행 (3시간 이상 걸림) *첫 세팅 시에만 사용할 것"
      ],
      "metadata": {
        "id": "ZKgIHQTeqnNC"
      }
    },
    {
      "cell_type": "code",
      "source": [
        "# !mkdir /content/gdrive/MyDrive/cv2_cuda #첫 세팅 시에만 주석 풀고 사용할 것\n",
        "!cp  /content/build/lib/python3/cv2.cpython-37m-x86_64-linux-gnu.so   \"/content/gdrive/MyDrive/cv2_cuda\""
      ],
      "metadata": {
        "colab": {
          "base_uri": "https://localhost:8080/"
        },
        "id": "OQJ8pzC5swQe",
        "outputId": "5ca2e7de-30f8-4c20-d354-d386b2f15b61"
      },
      "execution_count": 4,
      "outputs": [
        {
          "output_type": "stream",
          "name": "stdout",
          "text": [
            "cp: cannot stat '/content/build/lib/python3/cv2.cpython-37m-x86_64-linux-gnu.so': No such file or directory\n"
          ]
        }
      ]
    },
    {
      "cell_type": "markdown",
      "source": [
        "구글드라이브 cv2_cuda 디렉토리 생성 후 동적 라이브러리 파일 복사"
      ],
      "metadata": {
        "id": "1WXWIoNBruzz"
      }
    },
    {
      "cell_type": "code",
      "source": [
        "!pip uninstall opencv-python\n",
        "%cd /content/gdrive/MyDrive/cv2_cuda/\n",
        "!cp cv2.cpython-37m-x86_64-linux-gnu.so /usr/local/lib/python3.7/dist-packages"
      ],
      "metadata": {
        "id": "ajzF_Gbhsybb",
        "colab": {
          "base_uri": "https://localhost:8080/"
        },
        "outputId": "6c348371-7b7b-4b43-cd2c-d6f7e4d1b675"
      },
      "execution_count": 1,
      "outputs": [
        {
          "output_type": "stream",
          "name": "stdout",
          "text": [
            "\u001b[33mWARNING: Skipping opencv-python as it is not installed.\u001b[0m\n",
            "/content/gdrive/MyDrive/cv2_cuda\n"
          ]
        }
      ]
    },
    {
      "cell_type": "markdown",
      "source": [
        "기존 빌드 패키지 지우고 새로 빌드한 동적 라이브러리 설치"
      ],
      "metadata": {
        "id": "-3d2evJYq1aH"
      }
    },
    {
      "cell_type": "code",
      "source": [
        "import cv2\n",
        "\n",
        "print(cv2.__version__)\n",
        "print(cv2.cuda.getCudaEnabledDeviceCount()) #기존 OpenCV 는 CPU만 할당"
      ],
      "metadata": {
        "id": "76fm2Thqs8lM",
        "colab": {
          "base_uri": "https://localhost:8080/"
        },
        "outputId": "538d4521-1ec2-4759-f65f-327007f8fd94"
      },
      "execution_count": 1,
      "outputs": [
        {
          "output_type": "stream",
          "name": "stdout",
          "text": [
            "4.1.2\n",
            "0\n"
          ]
        }
      ]
    },
    {
      "cell_type": "markdown",
      "source": [
        "0이 나오면 CPU만 할당, 1이 나오면 GPU 할당됨\n",
        "\n"
      ],
      "metadata": {
        "id": "EqD_mRrDq9Pw"
      }
    }
  ]
}